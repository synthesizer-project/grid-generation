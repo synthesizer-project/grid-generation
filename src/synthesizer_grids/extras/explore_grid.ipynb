{
 "cells": [
  {
   "cell_type": "markdown",
   "id": "659dcb3a-891b-4271-9073-d02efbeb14d5",
   "metadata": {},
   "source": [
    "# Exploring grids\n",
    "\n",
    "This example allows us to explore a HDF5 grid file, and load the corresponding Grid object. We first load some common modules."
   ]
  },
  {
   "cell_type": "code",
   "execution_count": 1,
   "id": "79c4459f-4b18-43dd-922f-f20ad58bbfd6",
   "metadata": {},
   "outputs": [],
   "source": [
    "import h5py"
   ]
  },
  {
   "cell_type": "code",
   "execution_count": 2,
   "id": "d4c139d9-a589-425f-9a69-736b82f96e65",
   "metadata": {},
   "outputs": [],
   "source": [
    "grid_dir = \"/Users/sw376/Dropbox/Research/data/synthesizer/grids\"\n",
    "grid_name = \"bpass-2.2.1-bin_chabrier03-0.1,300.0\"\n",
    "grid_name = \"bc03_chabrier03-0.1,100\"\n",
    "grid_name = \"feltre16\"\n",
    "grid_name = \"qsosed-isotropic-limited\""
   ]
  },
  {
   "attachments": {},
   "cell_type": "markdown",
   "id": "16d19411",
   "metadata": {},
   "source": [
    "#### Single spectra"
   ]
  },
  {
   "cell_type": "code",
   "execution_count": 3,
   "id": "c659dba2",
   "metadata": {},
   "outputs": [
    {
     "name": "stdout",
     "output_type": "stream",
     "text": [
      "WeightVariable bolometric_luminosities\n",
      "axes ['mass' 'accretion_rate_eddington']\n",
      "date_created 2025-03-04\n",
      "synthesizer_grids_version 0.1.dev581+g6eb8104.d20250213\n",
      "synthesizer_version 0.7.0b1.dev3+g15f55f6c5.d20250213\n"
     ]
    }
   ],
   "source": [
    "with h5py.File(f\"{grid_dir}/{grid_name}.hdf5\") as hf:\n",
    "    for k, v in hf.attrs.items():\n",
    "        print(k, v)"
   ]
  },
  {
   "attachments": {},
   "cell_type": "markdown",
   "id": "4f58f23f",
   "metadata": {},
   "source": [
    "##### datasets"
   ]
  },
  {
   "cell_type": "code",
   "execution_count": 4,
   "id": "e8dcddaf",
   "metadata": {},
   "outputs": [
    {
     "name": "stdout",
     "output_type": "stream",
     "text": [
      "Model\n",
      "axes\n",
      "axes/accretion_rate_eddington\n",
      "axes/mass\n",
      "log10_specific_ionising_luminosity\n",
      "log10_specific_ionising_luminosity/HI\n",
      "log10_specific_ionising_luminosity/HeII\n",
      "spectra\n",
      "spectra/incident\n",
      "spectra/wavelength\n"
     ]
    }
   ],
   "source": [
    "with h5py.File(f\"{grid_dir}/{grid_name}.hdf5\") as hf:\n",
    "    hf.visit(print)"
   ]
  },
  {
   "attachments": {},
   "cell_type": "markdown",
   "id": "095cead4",
   "metadata": {},
   "source": [
    "#### With Synthesizer\n",
    "\n",
    "`synthesizer` contains a `Grid` class for reading and manipulating grids including some helpful summary methods."
   ]
  },
  {
   "cell_type": "code",
   "execution_count": 7,
   "id": "8a9b1038-a78b-4c5d-8d04-c6f0cebda0a9",
   "metadata": {},
   "outputs": [
    {
     "name": "stdout",
     "output_type": "stream",
     "text": [
      "+--------------------------------------------------------------------------------------------------------------------+\n",
      "|                                                        GRID                                                        |\n",
      "+-----------------------------+--------------------------------------------------------------------------------------+\n",
      "| Attribute                   | Value                                                                                |\n",
      "+-----------------------------+--------------------------------------------------------------------------------------+\n",
      "| grid_dir                    | '/Users/sw376/Dropbox/Research/data/synthesizer/grids'                               |\n",
      "+-----------------------------+--------------------------------------------------------------------------------------+\n",
      "| grid_name                   | 'qsosed-isotropic-limited'                                                           |\n",
      "+-----------------------------+--------------------------------------------------------------------------------------+\n",
      "| grid_ext                    | 'hdf5'                                                                               |\n",
      "+-----------------------------+--------------------------------------------------------------------------------------+\n",
      "| grid_filename               | '/Users/sw376/Dropbox/Research/data/synthesizer/grids/qsosed-isotropic-limited.hdf5' |\n",
      "+-----------------------------+--------------------------------------------------------------------------------------+\n",
      "| reprocessed                 | False                                                                                |\n",
      "+-----------------------------+--------------------------------------------------------------------------------------+\n",
      "| lines_available             | False                                                                                |\n",
      "+-----------------------------+--------------------------------------------------------------------------------------+\n",
      "| naxes                       | 2                                                                                    |\n",
      "+-----------------------------+--------------------------------------------------------------------------------------+\n",
      "| has_lines                   | False                                                                                |\n",
      "+-----------------------------+--------------------------------------------------------------------------------------+\n",
      "| has_spectra                 | True                                                                                 |\n",
      "+-----------------------------+--------------------------------------------------------------------------------------+\n",
      "| lines_available             | False                                                                                |\n",
      "+-----------------------------+--------------------------------------------------------------------------------------+\n",
      "| reprocessed                 | False                                                                                |\n",
      "+-----------------------------+--------------------------------------------------------------------------------------+\n",
      "| shape                       | (4, 4, 1999)                                                                         |\n",
      "+-----------------------------+--------------------------------------------------------------------------------------+\n",
      "| available_spectra           | [incident, ]                                                                         |\n",
      "+-----------------------------+--------------------------------------------------------------------------------------+\n",
      "| axes                        | [mass, accretion_rate_eddington]                                                     |\n",
      "+-----------------------------+--------------------------------------------------------------------------------------+\n",
      "| lam (1999,)                 | 1.25e-03 Å -> 1.23e+05 Å (Mean: 6.73e+03 Å)                                          |\n",
      "+-----------------------------+--------------------------------------------------------------------------------------+\n",
      "| spectra                     | incident: ndarray                                                                    |\n",
      "+-----------------------------+--------------------------------------------------------------------------------------+\n",
      "| parameters                  | WeightVariable: str                                                                  |\n",
      "|                             | axes: ndarray                                                                        |\n",
      "|                             | date_created: str                                                                    |\n",
      "|                             | synthesizer_grids_version: str                                                       |\n",
      "|                             | synthesizer_version: str                                                             |\n",
      "+-----------------------------+--------------------------------------------------------------------------------------+\n",
      "| log10_specific_ionising_lum | HI: ndarray                                                                          |\n",
      "|                             | HeII: ndarray                                                                        |\n",
      "+-----------------------------+--------------------------------------------------------------------------------------+\n",
      "[1.98841586e+37 1.98841586e+38 1.98841586e+39 1.98841586e+40] kg\n"
     ]
    }
   ],
   "source": [
    "from synthesizer.grid import Grid\n",
    "\n",
    "grid = Grid(grid_name, grid_dir=grid_dir, read_lines=False)\n",
    "print(grid)\n",
    "\n",
    "print(grid.mass)"
   ]
  }
 ],
 "metadata": {
  "kernelspec": {
   "display_name": "venv",
   "language": "python",
   "name": "python3"
  },
  "language_info": {
   "codemirror_mode": {
    "name": "ipython",
    "version": 3
   },
   "file_extension": ".py",
   "mimetype": "text/x-python",
   "name": "python",
   "nbconvert_exporter": "python",
   "pygments_lexer": "ipython3",
   "version": "3.10.11"
  },
  "vscode": {
   "interpreter": {
    "hash": "d4fb8525df3c2933e1fe2b0e2382726f2f8767d7ff137e82aa6f121fad304b59"
   }
  }
 },
 "nbformat": 4,
 "nbformat_minor": 5
}
